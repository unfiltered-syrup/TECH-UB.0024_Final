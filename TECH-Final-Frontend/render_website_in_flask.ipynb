{
  "nbformat": 4,
  "nbformat_minor": 0,
  "metadata": {
    "colab": {
      "name": "render_website in flask.ipynb",
      "private_outputs": true,
      "provenance": []
    },
    "kernelspec": {
      "name": "python3",
      "display_name": "Python 3"
    },
    "language_info": {
      "name": "python"
    }
  },
  "cells": [
    {
      "cell_type": "code",
      "execution_count": null,
      "metadata": {
        "id": "1qPFE_qeQDR0"
      },
      "outputs": [],
      "source": [
        "!git clone https://github.com/unfiltered-syrup/TECH-UB.0024_Final"
      ]
    },
    {
      "cell_type": "code",
      "source": [
        "!pip install flask-ngrok > /dev/null\n",
        "!pip install -q pyngrok\n",
        "!ngrok authtoken 23FD4t7XWxBjf9HXFzSOjo7kgbG_5jnc58AtdCLCkr8J6nh3b # <-- replace with your own"
      ],
      "metadata": {
        "id": "9mvFaiOhQIco"
      },
      "execution_count": null,
      "outputs": []
    },
    {
      "cell_type": "code",
      "source": [
        "from flask_ngrok import run_with_ngrok\n",
        "from flask import Flask, render_template, request as flask_request\n",
        "\n",
        "app = Flask(\"my webserver\", template_folder = '/content/templates')\n",
        "run_with_ngrok(app)\n",
        "\n",
        "@app.route(\"/\")\n",
        "def testing():\n",
        "    return render_template(\"front_page.html\")\n",
        "\n",
        "app.run()"
      ],
      "metadata": {
        "id": "yKTPFutRQUbd"
      },
      "execution_count": null,
      "outputs": []
    },
    {
      "cell_type": "code",
      "source": [
        ""
      ],
      "metadata": {
        "id": "rPa5XCRZQ36v"
      },
      "execution_count": null,
      "outputs": []
    },
    {
      "cell_type": "code",
      "source": [
        "!mkdir templates/"
      ],
      "metadata": {
        "id": "rIj_Sh2WQxj1"
      },
      "execution_count": null,
      "outputs": []
    },
    {
      "cell_type": "code",
      "source": [
        "!mv TECH-UB.0024_Final/font-end/* templates"
      ],
      "metadata": {
        "id": "EBU17owsRk34"
      },
      "execution_count": null,
      "outputs": []
    },
    {
      "cell_type": "code",
      "source": [
        ""
      ],
      "metadata": {
        "id": "eaf7UiVbRn1H"
      },
      "execution_count": null,
      "outputs": []
    }
  ]
}