{
  "nbformat": 4,
  "nbformat_minor": 0,
  "metadata": {
    "colab": {
      "name": "final_ver2.ipynb",
      "private_outputs": true,
      "provenance": [],
      "collapsed_sections": []
    },
    "kernelspec": {
      "name": "python3",
      "display_name": "Python 3"
    },
    "language_info": {
      "name": "python"
    }
  },
  "cells": [
    {
      "cell_type": "code",
      "execution_count": null,
      "metadata": {
        "id": "1qPFE_qeQDR0"
      },
      "outputs": [],
      "source": [
        "!git clone https://github.com/unfiltered-syrup/TECH-UB.0024_Final\n",
        "!pip install spotipy --upgrade"
      ]
    },
    {
      "cell_type": "code",
      "source": [
        "!pip install flask-ngrok > /dev/null\n",
        "!pip install -q pyngrok\n",
        "!ngrok authtoken 23FD4t7XWxBjf9HXFzSOjo7kgbG_5jnc58AtdCLCkr8J6nh3b # <-- replace with your own"
      ],
      "metadata": {
        "id": "9mvFaiOhQIco"
      },
      "execution_count": null,
      "outputs": []
    },
    {
      "cell_type": "code",
      "source": [
        "#imports and downloads\n",
        "from flask_ngrok import run_with_ngrok\n",
        "from flask import Flask, render_template, request as flask_request\n",
        "from flask import Flask, redirect, url_for, render_template\n",
        "import sys\n",
        "import json\n",
        "import requests\n",
        "from textblob import TextBlob\n",
        "from textblob.classifiers import NaiveBayesClassifier\n",
        "import nltk\n",
        "nltk.download('punkt')\n",
        "import pandas as pd\n",
        "import re\n",
        "import spacy\n",
        "emotion = ''\n",
        "with open('/content/TECH-UB.0024_Final/TECH-Final-Frontend/emotion_complete.csv', encoding=\"ISO-8859-1\") as fp:\n",
        "  cl = NaiveBayesClassifier(fp, format=\"csv\")\n",
        "app = Flask(__name__, template_folder='/content/TECH-UB.0024_Final/TECH-Final-Frontend/', static_folder='/content/TECH-UB.0024_Final/TECH-Final-Frontend/')\n",
        "run_with_ngrok(app)\n",
        "def before_request():\n",
        "    app.jinja_env.cache = {}\n",
        "@app.route(\"/\")\n",
        "def testing():\n",
        "    return render_template(\"front_page.html\")\n",
        "\n",
        "def split(vent):\n",
        "    return(re.split('[?.!]', vent))\n",
        "@app.route('/get_strings', methods=['POST'])\n",
        "def get_string():\n",
        "  global tracks\n",
        "  alphabets= \"([A-Za-z])\"\n",
        "  prefixes = \"(Mr|St|Mrs|Ms|Dr)[.]\"\n",
        "  suffixes = \"(Inc|Ltd|Jr|Sr|Co)\"\n",
        "  starters = \"(Mr|Mrs|Ms|Dr|He\\s|She\\s|It\\s|They\\s|Their\\s|Our\\s|We\\s|But\\s|However\\s|That\\s|This\\s|Wherever)\"\n",
        "  acronyms = \"([A-Z][.][A-Z][.](?:[A-Z][.])?)\"\n",
        "  websites = \"[.](com|net|org|io|gov)\"\n",
        "\n",
        "  v2 = pd.read_excel(open('/content/TECH-UB.0024_Final/vent_library.xlsx', 'rb'),sheet_name='vent_library')\n",
        "  print(v2)\n",
        "  happy_df = v2[v2['Mood'] == 'Happy']\n",
        "  angry_df = v2[v2['Mood'] == 'Angry']\n",
        "  sad_df = v2[v2['Mood'] == 'Sad']\n",
        "  heartbreak_df = v2[v2['Mood'] == 'Heartbreak']\n",
        "  focus_df = v2[v2['Mood'] == 'Focus']\n",
        "  selflove_df = v2[v2['Mood'] == 'Self Love']\n",
        "  inspiration_df = v2[v2['Mood'] == 'Inspiration']\n",
        "  party_df = v2[v2['Mood'] == 'Party']\n",
        "  love_df = v2[v2['Mood'] == 'Love']\n",
        "  friendship_df = v2[v2['Mood'] == 'Friendship']\n",
        "  happy_songs = happy_df[['Track']]\n",
        "  angry_songs = angry_df[['Track']]\n",
        "  sad_songs = sad_df[['Track']]\n",
        "  heartbreak_songs = heartbreak_df[['Track']]\n",
        "  focus_songs = focus_df[['Track']]\n",
        "  selflove_songs = selflove_df[['Track']]\n",
        "  inspiration_songs = inspiration_df[['Track']]\n",
        "  party_songs = party_df[['Track']]\n",
        "  love_songs = love_df[['Track']]\n",
        "  friendship_songs = friendship_df[['Track']]\n",
        "  emotion_list=[]\n",
        "  import string\n",
        "  from string import punctuation\n",
        "  text = flask_request.form[\"text_input\"]\n",
        "  if text[len(text)-1] in string.punctuation:\n",
        "    text = text\n",
        "  else:\n",
        "    text = text+'.'\n",
        "  print(text)\n",
        "  text = \" \" + text + \"  \"\n",
        "  text = text.replace(\"\\n\",\" \")\n",
        "  text = re.sub(prefixes,\"\\\\1<prd>\",text)\n",
        "  text = re.sub(websites,\"<prd>\\\\1\",text)\n",
        "  if \"Ph.D\" in text: text = text.replace(\"Ph.D.\",\"Ph<prd>D<prd>\")\n",
        "  text = re.sub(\"\\s\" + alphabets + \"[.] \",\" \\\\1<prd> \",text)\n",
        "  text = re.sub(acronyms+\" \"+starters,\"\\\\1<stop> \\\\2\",text)\n",
        "  text = re.sub(alphabets + \"[.]\" + alphabets + \"[.]\" + alphabets + \"[.]\",\"\\\\1<prd>\\\\2<prd>\\\\3<prd>\",text)\n",
        "  text = re.sub(alphabets + \"[.]\" + alphabets + \"[.]\",\"\\\\1<prd>\\\\2<prd>\",text)\n",
        "  text = re.sub(\" \"+suffixes+\"[.] \"+starters,\" \\\\1<stop> \\\\2\",text)\n",
        "  text = re.sub(\" \"+suffixes+\"[.]\",\" \\\\1<prd>\",text)\n",
        "  text = re.sub(\" \" + alphabets + \"[.]\",\" \\\\1<prd>\",text)\n",
        "  if \"”\" in text: text = text.replace(\".”\",\"”.\")\n",
        "  if \"\\\"\" in text: text = text.replace(\".\\\"\",\"\\\".\")\n",
        "  if \"!\" in text: text = text.replace(\"!\\\"\",\"\\\"!\")\n",
        "  if \"?\" in text: text = text.replace(\"?\\\"\",\"\\\"?\")\n",
        "  text = text.replace(\".\",\".<stop>\")\n",
        "  text = text.replace(\"?\",\"?<stop>\")\n",
        "  text = text.replace(\"!\",\"!<stop>\")\n",
        "  text = text.replace(\"<prd>\",\".\")\n",
        "  sentences = text.split(\"<stop>\")\n",
        "  sentences = sentences[:-1]\n",
        "  sentences = [s.strip() for s in sentences]\n",
        "  tracks = []\n",
        "  for sent in sentences:\n",
        "    blob=TextBlob(sent,classifier=cl)\n",
        "    emotion_list.append(blob.classify())\n",
        "  for x in emotion_list:\n",
        "        if x == 'happiness':\n",
        "            tracks+=happy_songs.sample(30//len(emotion_list))['Track'].to_list()\n",
        "        if x == 'anger':\n",
        "            tracks+=angry_songs.sample(30//len(emotion_list))['Track'].to_list()\n",
        "        if x == 'sadness':\n",
        "            tracks+=sad_songs.sample(30//len(emotion_list))['Track'].to_list()\n",
        "        if x == 'heartbroken':\n",
        "            tracks+=heartbreak_songs.sample(30//len(emotion_list))['Track'].to_list()\n",
        "        if x == 'working':\n",
        "            tracks+=focus_songs.sample(30//len(emotion_list))['Track'].to_list()\n",
        "        if x == 'worry':\n",
        "            tracks+=selflove_songs.sample(30//len(emotion_list))['Track'].to_list()\n",
        "        if x == 'boredom':\n",
        "            tracks+=inspiration_songs.sample(30//len(emotion_list))['Track'].to_list()\n",
        "        if x == 'fun':\n",
        "            tracks+=party_songs.sample(30//len(emotion_list))['Track'].to_list()\n",
        "        if x == 'love':\n",
        "            tracks+=love_songs.sample(30//len(emotion_list))['Track'].to_list()\n",
        "        if x == 'lonely':\n",
        "            tracks+=friendship_songs.sample(30//len(emotion_list))['Track'].to_list()\n",
        "  return render_template(\"front_page2.html\", param1 = json.dumps(tracks))\n",
        "  \n",
        "@app.route('/return_result')\n",
        "def results(): #the following is called after runtime, but doesn't support collab notebook\n",
        "    access_token=\"BQD7MJWQHAz-0a4IKKO9LqYrFKOOB8PcPah_b5Em8jVpKETuyiWUWo1tSslLYg65VozKe_hEdRGfAo3iH84\"\n",
        "    # base URL of all Spotify API endpoints\n",
        "    headers = {\n",
        "        'Authorization': 'Bearer {token}'.format(token=access_token)\n",
        "    }\n",
        "    BASE_URL = 'https://api.spotify.com/v1/'\n",
        "    id_list=[]\n",
        "    for song in tracks:\n",
        "        r = requests.get(BASE_URL + 'search?' + \"q=\" + str(song), \"type=track\", headers=headers)\n",
        "        r = r.json()\n",
        "        if len(r[\"tracks\"][\"items\"])==0:\n",
        "            pass\n",
        "        else:\n",
        "            id_list.append(r[\"tracks\"][\"items\"][0][\"id\"])\n",
        "    client_ID = 'd39c2f2f44284bda99c32b8c897f5f04'\n",
        "    client_SECRET = 'f332a98be03143cdad37f764d90fddf0'\n",
        "    redirect_url = \"http://localhost:8888/callback/\"\n",
        "    import spotipy\n",
        "    from spotipy.oauth2 import SpotifyOAuth\n",
        "    scope = \"playlist-modify-public\"\n",
        "    spot = spotipy.Spotify(auth_manager=SpotifyOAuth(client_id=client_ID, client_secret=client_SECRET,\n",
        "                                                     redirect_uri=redirect_url, scope=scope))\n",
        "    results = spot.user_playlist_create(user=\"sakhikamal\", name=\"New Vent\", public=True, collaborative=False)\n",
        "    spot.playlist_add_items(results[\"id\"], id_list, position=None) \n",
        "    return 'nothing' \n",
        "\n",
        "if __name__ == '__main__':\n",
        "  app.jinja_env.auto_reload = True\n",
        "  app.config['TEMPLATES_AUTO_RELOAD'] = True\n",
        "  app.run()"
      ],
      "metadata": {
        "id": "yKTPFutRQUbd"
      },
      "execution_count": null,
      "outputs": []
    },
    {
      "cell_type": "code",
      "source": [
        ""
      ],
      "metadata": {
        "id": "N5qKBf-QdqgB"
      },
      "execution_count": null,
      "outputs": []
    },
    {
      "cell_type": "code",
      "source": [
        ""
      ],
      "metadata": {
        "id": "rPa5XCRZQ36v"
      },
      "execution_count": null,
      "outputs": []
    },
    {
      "cell_type": "code",
      "source": [
        "!mkdir templates/"
      ],
      "metadata": {
        "id": "rIj_Sh2WQxj1"
      },
      "execution_count": null,
      "outputs": []
    },
    {
      "cell_type": "code",
      "source": [
        "!mv TECH-UB.0024_Final/font-end/* templates"
      ],
      "metadata": {
        "id": "EBU17owsRk34"
      },
      "execution_count": null,
      "outputs": []
    },
    {
      "cell_type": "code",
      "source": [
        ""
      ],
      "metadata": {
        "id": "eaf7UiVbRn1H"
      },
      "execution_count": null,
      "outputs": []
    }
  ]
}